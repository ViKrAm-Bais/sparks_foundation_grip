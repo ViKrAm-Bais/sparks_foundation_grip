{
  "nbformat": 4,
  "nbformat_minor": 0,
  "metadata": {
    "colab": {
      "name": "GRIP_Task_2.ipynb",
      "provenance": []
    },
    "kernelspec": {
      "name": "python3",
      "display_name": "Python 3"
    }
  },
  "cells": [
    {
      "cell_type": "markdown",
      "metadata": {
        "id": "GHPeiJMvPgD3",
        "colab_type": "text"
      },
      "source": [
        "#Task 2, To Explore Supervised Machine Learning\n"
      ]
    },
    {
      "cell_type": "code",
      "metadata": {
        "id": "mf1ptA9ePZr1",
        "colab_type": "code",
        "colab": {}
      },
      "source": [
        "#Importing all the libraries required for the code\n",
        "import pandas as pd\n",
        "import numpy as np  \n",
        "import matplotlib.pyplot as plt  \n",
        "%matplotlib inline"
      ],
      "execution_count": null,
      "outputs": []
    },
    {
      "cell_type": "code",
      "metadata": {
        "id": "Ndc1JG5XQymp",
        "colab_type": "code",
        "colab": {
          "base_uri": "https://localhost:8080/",
          "height": 144
        },
        "outputId": "6298a38d-a76f-4d0a-a581-335d9ec8e08b"
      },
      "source": [
        "# Loading Data from the given URL\n",
        "url = \"http://bit.ly/w-data\"\n",
        "data = pd.read_csv(url)\n",
        "print(\"shape of dataset: {}\".format(data.shape))\n",
        "print(data.head(5))"
      ],
      "execution_count": null,
      "outputs": [
        {
          "output_type": "stream",
          "text": [
            "shape of dataset: (25, 2)\n",
            "   Hours  Scores\n",
            "0    2.5      21\n",
            "1    5.1      47\n",
            "2    3.2      27\n",
            "3    8.5      75\n",
            "4    3.5      30\n"
          ],
          "name": "stdout"
        }
      ]
    },
    {
      "cell_type": "code",
      "metadata": {
        "id": "mreeKJZIRWaC",
        "colab_type": "code",
        "colab": {
          "base_uri": "https://localhost:8080/",
          "height": 555
        },
        "outputId": "09dd4bf6-c248-430b-a75b-17271a614784"
      },
      "source": [
        "# Plotting the distribution of score using matplotlib\n",
        "plt.figure(figsize=(10, 6), dpi=100)\n",
        "plt.title(\"Distribution of Score\")\n",
        "plt.xlabel(\"Hours\")\n",
        "plt.ylabel(\"Scores\")\n",
        "plt.scatter(data.Hours,data.Scores,color=\"b\",marker=\"*\")\n",
        "plt.show()"
      ],
      "execution_count": null,
      "outputs": [
        {
          "output_type": "display_data",
          "data": {
            "image/png": "[encoded data removed]",
            "text/plain": [
              "<Figure size 1000x600 with 1 Axes>"
            ]
          },
          "metadata": {
            "tags": [],
            "needs_background": "light"
          }
        }
      ]
    },
    {
      "cell_type": "markdown",
      "metadata": {
        "id": "e1DpIvDHR6fi",
        "colab_type": "text"
      },
      "source": [
        "# Preparing the data for training"
      ]
    },
    {
      "cell_type": "markdown",
      "metadata": {
        "id": "zH73ceRMS8dN",
        "colab_type": "text"
      },
      "source": [
        "Dividing the data into attributes (Inputs) and labels (Outputs)"
      ]
    },
    {
      "cell_type": "code",
      "metadata": {
        "id": "wzlcMC6xSAjt",
        "colab_type": "code",
        "colab": {}
      },
      "source": [
        "# Dividing the data into attributes(Inputs) and label(Outputs)\n",
        "x = data.iloc[:, :-1].values  \n",
        "y = data.iloc[:, 1].values  "
      ],
      "execution_count": null,
      "outputs": []
    },
    {
      "cell_type": "markdown",
      "metadata": {
        "id": "eJNHIOwETGVR",
        "colab_type": "text"
      },
      "source": [
        "splitting the data set into tranining and testing data"
      ]
    },
    {
      "cell_type": "code",
      "metadata": {
        "id": "zSRnDqqVTO-G",
        "colab_type": "code",
        "colab": {
          "base_uri": "https://localhost:8080/",
          "height": 53
        },
        "outputId": "b436d385-b8bc-48df-c793-f05a7e4e8449"
      },
      "source": [
        "from sklearn.model_selection import train_test_split  \n",
        "x_train, x_test, y_train, y_test = train_test_split(x, y, test_size=0.2, random_state=0) \n",
        "print(\"training dataset shape: {}\".format(x_train.shape))\n",
        "print(\"testing dataset shape: {}\".format(x_test.shape))"
      ],
      "execution_count": null,
      "outputs": [
        {
          "output_type": "stream",
          "text": [
            "training dataset shape: (20, 1)\n",
            "testing dataset shape: (5, 1)\n"
          ],
          "name": "stdout"
        }
      ]
    },
    {
      "cell_type": "markdown",
      "metadata": {
        "id": "7CWQsjmPVAne",
        "colab_type": "text"
      },
      "source": [
        "#Training the model"
      ]
    },
    {
      "cell_type": "code",
      "metadata": {
        "id": "tLZVR860VDQX",
        "colab_type": "code",
        "colab": {
          "base_uri": "https://localhost:8080/",
          "height": 35
        },
        "outputId": "12afd8c3-bc23-40f3-ce30-94806a6332f2"
      },
      "source": [
        "# Importing library for linear regression\n",
        "from sklearn.linear_model import LinearRegression  \n",
        "model = LinearRegression()  \n",
        "model.fit(x_train, y_train)"
      ],
      "execution_count": null,
      "outputs": [
        {
          "output_type": "execute_result",
          "data": {
            "text/plain": [
              "LinearRegression(copy_X=True, fit_intercept=True, n_jobs=None, normalize=False)"
            ]
          },
          "metadata": {
            "tags": []
          },
          "execution_count": 63
        }
      ]
    },
    {
      "cell_type": "markdown",
      "metadata": {
        "id": "WE3EsnuPVlGa",
        "colab_type": "text"
      },
      "source": [
        "Plotting the linear regression line with training data"
      ]
    },
    {
      "cell_type": "code",
      "metadata": {
        "id": "mcMrDBOpVagw",
        "colab_type": "code",
        "colab": {
          "base_uri": "https://localhost:8080/",
          "height": 573
        },
        "outputId": "93099dc1-58a0-4270-9ffa-4d75f8cf5345"
      },
      "source": [
        "# Defining the equation of line\n",
        "print(\"coefficient: {}, intercept: {}\".format(model.coef_, model.intercept_))\n",
        "line = model.coef_*x + model.intercept_\n",
        "# plotting line with data\n",
        "plt.figure(figsize=(10, 6), dpi=100)\n",
        "#plotting training data\n",
        "plt.scatter(x_train, y_train, color=\"c\",marker=\"*\")\n",
        "#plotting testing data\n",
        "plt.scatter(x_test, y_test, color=\"m\",marker=\"+\")\n",
        "plt.plot(x, line)\n",
        "plt.title(\"Distribution of Score and Regression line\")\n",
        "plt.xlabel(\"Hours\")\n",
        "plt.ylabel(\"Scores\")\n",
        "plt.show()"
      ],
      "execution_count": null,
      "outputs": [
        {
          "output_type": "stream",
          "text": [
            "coefficient: [9.91065648], intercept: 2.018160041434662\n"
          ],
          "name": "stdout"
        },
        {
          "output_type": "display_data",
          "data": {
            "image/png": "[encoded data removed]",
            "text/plain": [
              "<Figure size 1000x600 with 1 Axes>"
            ]
          },
          "metadata": {
            "tags": [],
            "needs_background": "light"
          }
        }
      ]
    },
    {
      "cell_type": "markdown",
      "metadata": {
        "id": "G-hlM_nZXDvQ",
        "colab_type": "text"
      },
      "source": [
        "# Results"
      ]
    },
    {
      "cell_type": "code",
      "metadata": {
        "id": "3gPxS_7OXG0_",
        "colab_type": "code",
        "colab": {}
      },
      "source": [
        "# getting predictions for test data\n",
        "y_predicted = model.predict(x_test)"
      ],
      "execution_count": null,
      "outputs": []
    },
    {
      "cell_type": "code",
      "metadata": {
        "id": "Kp_8ggC9XXKB",
        "colab_type": "code",
        "colab": {
          "base_uri": "https://localhost:8080/",
          "height": 126
        },
        "outputId": "28927bf9-f555-4ec7-eb54-f76b17e8ac66"
      },
      "source": [
        "# Comparing Actual vs Predicted\n",
        "df = pd.DataFrame({'Actual': y_test, 'Predicted': y_predicted})  \n",
        "print(df)"
      ],
      "execution_count": null,
      "outputs": [
        {
          "output_type": "stream",
          "text": [
            "   Actual  Predicted\n",
            "0      20  16.884145\n",
            "1      27  33.732261\n",
            "2      69  75.357018\n",
            "3      30  26.794801\n",
            "4      62  60.491033\n"
          ],
          "name": "stdout"
        }
      ]
    },
    {
      "cell_type": "markdown",
      "metadata": {
        "id": "UxlVHcHcZM66",
        "colab_type": "text"
      },
      "source": [
        "#predicted score if a student study for 9.25 hrs in a day"
      ]
    },
    {
      "cell_type": "code",
      "metadata": {
        "id": "1nCdEw7eYzw2",
        "colab_type": "code",
        "colab": {
          "base_uri": "https://localhost:8080/",
          "height": 35
        },
        "outputId": "c433a439-9619-4bce-f02b-5290881f497d"
      },
      "source": [
        "s_hours = 9.25\n",
        "s_score = model.predict([[shours]])\n",
        "print(\"predicted score if a student study for {} hrs in a day is {}\".format(s_hours, s_score[0]))"
      ],
      "execution_count": null,
      "outputs": [
        {
          "output_type": "stream",
          "text": [
            "predicted score if a student study for 9.25 hrs in a day is 93.69173248737539\n"
          ],
          "name": "stdout"
        }
      ]
    },
    {
      "cell_type": "markdown",
      "metadata": {
        "id": "8Di22jyFaEQH",
        "colab_type": "text"
      },
      "source": [
        "# Calculating error for the model"
      ]
    },
    {
      "cell_type": "code",
      "metadata": {
        "id": "sAj2g3JraHQp",
        "colab_type": "code",
        "colab": {
          "base_uri": "https://localhost:8080/",
          "height": 53
        },
        "outputId": "32e8b5a8-6b70-41cb-8891-ad4bd6e35059"
      },
      "source": [
        "from sklearn import metrics  \n",
        "print('Mean Absolute Error: {}'.format(metrics.mean_absolute_error(y_test, y_predicted)))\n",
        "accuracy = 100 * model.score(x_test, y_test)\n",
        "print(\"Accuracy(%): \", accuracy)"
      ],
      "execution_count": null,
      "outputs": [
        {
          "output_type": "stream",
          "text": [
            "Mean Absolute Error: 4.183859899002982\n",
            "Accuracy(%):  94.54906892105353\n"
          ],
          "name": "stdout"
        }
      ]
    },
    {
      "cell_type": "code",
      "metadata": {
        "id": "cf_DumtQeA7Z",
        "colab_type": "code",
        "colab": {}
      },
      "source": [
        ""
      ],
      "execution_count": null,
      "outputs": []
    }
  ]
}